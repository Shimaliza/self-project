{
  "nbformat": 4,
  "nbformat_minor": 0,
  "metadata": {
    "colab": {
      "provenance": [],
      "authorship_tag": "ABX9TyPlw4WsmYC+7y+ThnkEP2hr",
      "include_colab_link": true
    },
    "kernelspec": {
      "name": "python3",
      "display_name": "Python 3"
    },
    "language_info": {
      "name": "python"
    }
  },
  "cells": [
    {
      "cell_type": "markdown",
      "metadata": {
        "id": "view-in-github",
        "colab_type": "text"
      },
      "source": [
        "<a href=\"https://colab.research.google.com/github/Shimaliza/self-project/blob/main/Multiple_Linear_Regression.ipynb\" target=\"_parent\"><img src=\"https://colab.research.google.com/assets/colab-badge.svg\" alt=\"Open In Colab\"/></a>"
      ]
    },
    {
      "cell_type": "markdown",
      "source": [
        "Multiple Linear Regression\n",
        "I m gonna share with you the whole code you need for Mulitple Linear Regression. I have done some dataset and later is gonna share on github. The first step in any project is cleaning data but here I did skip because thoese dataset didn't need cleaning and just am gonna share code for people who are looking for this type of code."
      ],
      "metadata": {
        "id": "yQFbKFPc9GfO"
      }
    },
    {
      "cell_type": "markdown",
      "source": [
        "Importing the libraries"
      ],
      "metadata": {
        "id": "iyYZxg6k-3h_"
      }
    },
    {
      "cell_type": "code",
      "source": [
        "import numpy as np\n",
        "import matplotlib.pyplot as plt\n",
        "import pandas as pd"
      ],
      "metadata": {
        "id": "1QLlTY0c-5h2"
      },
      "execution_count": null,
      "outputs": []
    },
    {
      "cell_type": "markdown",
      "source": [
        "Importing the dataset"
      ],
      "metadata": {
        "id": "wVs3W5II--Su"
      }
    },
    {
      "cell_type": "code",
      "source": [
        "dataset = pd.read_csv(\"filename\")\n",
        "x = dataset[:, :-1].values\n",
        "y = dataset[:,-1].values"
      ],
      "metadata": {
        "id": "8Zg7Faqf_BL-"
      },
      "execution_count": null,
      "outputs": []
    },
    {
      "cell_type": "markdown",
      "source": [
        "Splitting the dataset to train_set and test_set"
      ],
      "metadata": {
        "id": "QfTizZRQ_5DX"
      }
    },
    {
      "cell_type": "code",
      "source": [
        "from sklearn.model_selection import train_test_split\n",
        "x_train, x_test, y_train, y_test = train_test_split(x,y, test_size = 0.2, random_state = 0)\n",
        "print(x_train)\n",
        "print(x_test)"
      ],
      "metadata": {
        "id": "EnSfUfCy__3n"
      },
      "execution_count": null,
      "outputs": []
    },
    {
      "cell_type": "markdown",
      "source": [
        "Training the Multiple Linear Regression model on the whole dataset"
      ],
      "metadata": {
        "id": "Tepj0G-IAAOG"
      }
    },
    {
      "cell_type": "code",
      "source": [
        "from sklearn.linear_model import LinearRegression\n",
        "regressor = LinearRegression()\n",
        "regressor.fit(x_train, y_train)"
      ],
      "metadata": {
        "id": "8HSrfcEiAHAn"
      },
      "execution_count": null,
      "outputs": []
    },
    {
      "cell_type": "markdown",
      "source": [
        "Predicting the test set results"
      ],
      "metadata": {
        "id": "egPAb7oYAHPf"
      }
    },
    {
      "cell_type": "code",
      "source": [
        "y_pred = regressor.predict(x_test)\n",
        "np.set.printoptions(precision = 2)\n",
        "print(np.concatenate(y_pred.regressor(len(y_pred), 1), y_test.reshape(len(y_test, 1))), 1 ))"
      ],
      "metadata": {
        "id": "NeuTEGf4GLZi"
      },
      "execution_count": null,
      "outputs": []
    },
    {
      "cell_type": "code",
      "source": [
        "Evaluating the model performance"
      ],
      "metadata": {
        "id": "GB5zQBLvALGv"
      },
      "execution_count": null,
      "outputs": []
    },
    {
      "cell_type": "code",
      "source": [
        "from sklearn.metrics import r2_score\n",
        "r2_score(y_test, y_pred)"
      ],
      "metadata": {
        "id": "6v04c9JGBx-Y"
      },
      "execution_count": null,
      "outputs": []
    }
  ]
}