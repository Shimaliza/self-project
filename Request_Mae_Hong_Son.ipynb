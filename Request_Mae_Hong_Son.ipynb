{
  "nbformat": 4,
  "nbformat_minor": 0,
  "metadata": {
    "colab": {
      "provenance": [],
      "authorship_tag": "ABX9TyPaV/hP9E/6BuwEEh3ZWj35",
      "include_colab_link": true
    },
    "kernelspec": {
      "name": "python3",
      "display_name": "Python 3"
    },
    "language_info": {
      "name": "python"
    }
  },
  "cells": [
    {
      "cell_type": "markdown",
      "metadata": {
        "id": "view-in-github",
        "colab_type": "text"
      },
      "source": [
        "<a href=\"https://colab.research.google.com/github/Shimaliza/self-project/blob/main/Request_Mae_Hong_Son.ipynb\" target=\"_parent\"><img src=\"https://colab.research.google.com/assets/colab-badge.svg\" alt=\"Open In Colab\"/></a>"
      ]
    },
    {
      "cell_type": "code",
      "execution_count": 1,
      "metadata": {
        "id": "UN3CbAptPBD1"
      },
      "outputs": [],
      "source": [
        "import requests"
      ]
    },
    {
      "cell_type": "code",
      "source": [
        "import os \n",
        "from PIL import Image\n",
        "from IPython.display import IFrame\n",
        "import pandas as pd\n",
        "import numpy as np"
      ],
      "metadata": {
        "id": "GPZ6vwzfPDUI"
      },
      "execution_count": 11,
      "outputs": []
    },
    {
      "cell_type": "code",
      "source": [
        "url =\"https://en.wikipedia.org/wiki/Mae_Hong_Son\"\n",
        "r=requests.get(url)"
      ],
      "metadata": {
        "id": "hMCsznE9PLJw"
      },
      "execution_count": 5,
      "outputs": []
    },
    {
      "cell_type": "code",
      "source": [
        "r.status_code"
      ],
      "metadata": {
        "colab": {
          "base_uri": "https://localhost:8080/"
        },
        "id": "S2hxfazgPiHm",
        "outputId": "3add06d8-cad5-4baa-c751-c0fef57f92b7"
      },
      "execution_count": 6,
      "outputs": [
        {
          "output_type": "execute_result",
          "data": {
            "text/plain": [
              "200"
            ]
          },
          "metadata": {},
          "execution_count": 6
        }
      ]
    },
    {
      "cell_type": "code",
      "source": [
        "print(r.request.headers)"
      ],
      "metadata": {
        "colab": {
          "base_uri": "https://localhost:8080/"
        },
        "id": "KHZh7jiAPpAC",
        "outputId": "910beb3f-d4cb-46f3-c553-3ad2adaa6ae1"
      },
      "execution_count": 8,
      "outputs": [
        {
          "output_type": "stream",
          "name": "stdout",
          "text": [
            "{'User-Agent': 'python-requests/2.25.1', 'Accept-Encoding': 'gzip, deflate', 'Accept': '*/*', 'Connection': 'keep-alive'}\n"
          ]
        }
      ]
    },
    {
      "cell_type": "code",
      "source": [
        "print(r.request.body)"
      ],
      "metadata": {
        "colab": {
          "base_uri": "https://localhost:8080/"
        },
        "id": "XdDaHzZ1P_XQ",
        "outputId": "4899a702-4d7d-4906-c771-1fefaf5c12c5"
      },
      "execution_count": 9,
      "outputs": [
        {
          "output_type": "stream",
          "name": "stdout",
          "text": [
            "None\n"
          ]
        }
      ]
    },
    {
      "cell_type": "code",
      "source": [
        "header=r.headers\n",
        "print(header)"
      ],
      "metadata": {
        "colab": {
          "base_uri": "https://localhost:8080/"
        },
        "id": "17xmqBjsQ2eS",
        "outputId": "b370c1a6-44db-4831-af66-d21b492d58ae"
      },
      "execution_count": 14,
      "outputs": [
        {
          "output_type": "stream",
          "name": "stdout",
          "text": [
            "{'date': 'Thu, 16 Mar 2023 11:47:47 GMT', 'server': 'mw2273.codfw.wmnet', 'x-content-type-options': 'nosniff', 'content-language': 'en', 'vary': 'Accept-Encoding,Cookie,Authorization', 'last-modified': 'Wed, 15 Mar 2023 13:54:10 GMT', 'content-type': 'text/html; charset=UTF-8', 'content-encoding': 'gzip', 'age': '2', 'x-cache': 'cp4037 miss, cp4037 miss', 'x-cache-status': 'miss', 'server-timing': 'cache;desc=\"miss\", host;desc=\"cp4037\"', 'strict-transport-security': 'max-age=106384710; includeSubDomains; preload', 'report-to': '{ \"group\": \"wm_nel\", \"max_age\": 604800, \"endpoints\": [{ \"url\": \"https://intake-logging.wikimedia.org/v1/events?stream=w3c.reportingapi.network_error&schema_uri=/w3c/reportingapi/network_error/1.0.0\" }] }', 'nel': '{ \"report_to\": \"wm_nel\", \"max_age\": 604800, \"failure_fraction\": 0.05, \"success_fraction\": 0.0}', 'set-cookie': 'WMF-Last-Access=16-Mar-2023;Path=/;HttpOnly;secure;Expires=Mon, 17 Apr 2023 00:00:00 GMT, WMF-Last-Access-Global=16-Mar-2023;Path=/;Domain=.wikipedia.org;HttpOnly;secure;Expires=Mon, 17 Apr 2023 00:00:00 GMT, WMF-DP=e95;Path=/;HttpOnly;secure;Expires=Thu, 16 Mar 2023 00:00:00 GMT, GeoIP=US:NV:Las_Vegas:36.17:-115.12:v4; Path=/; secure; Domain=.wikipedia.org', 'x-client-ip': '34.125.39.165', 'cache-control': 'private, s-maxage=0, max-age=0, must-revalidate', 'accept-ranges': 'bytes', 'transfer-encoding': 'chunked'}\n"
          ]
        }
      ]
    },
    {
      "cell_type": "code",
      "source": [
        "arr=np.array(header)\n",
        "arr"
      ],
      "metadata": {
        "colab": {
          "base_uri": "https://localhost:8080/"
        },
        "id": "J-9RPRhNRpZQ",
        "outputId": "d5bd3508-a3ea-42ef-bb8c-42b6a7f02546"
      },
      "execution_count": 16,
      "outputs": [
        {
          "output_type": "execute_result",
          "data": {
            "text/plain": [
              "array(['date', 'server', 'x-content-type-options', 'content-language',\n",
              "       'vary', 'last-modified', 'content-type', 'content-encoding', 'age',\n",
              "       'x-cache', 'x-cache-status', 'server-timing',\n",
              "       'strict-transport-security', 'report-to', 'nel', 'set-cookie',\n",
              "       'x-client-ip', 'cache-control', 'accept-ranges',\n",
              "       'transfer-encoding'], dtype='<U25')"
            ]
          },
          "metadata": {},
          "execution_count": 16
        }
      ]
    },
    {
      "cell_type": "code",
      "source": [
        "header[\"date\"]"
      ],
      "metadata": {
        "colab": {
          "base_uri": "https://localhost:8080/",
          "height": 36
        },
        "id": "RkEM-qSARpcR",
        "outputId": "fb5f1955-3411-4a59-8e3b-be1e6923150a"
      },
      "execution_count": 17,
      "outputs": [
        {
          "output_type": "execute_result",
          "data": {
            "text/plain": [
              "'Thu, 16 Mar 2023 11:47:47 GMT'"
            ],
            "application/vnd.google.colaboratory.intrinsic+json": {
              "type": "string"
            }
          },
          "metadata": {},
          "execution_count": 17
        }
      ]
    },
    {
      "cell_type": "code",
      "source": [
        "header[\"server\"]"
      ],
      "metadata": {
        "colab": {
          "base_uri": "https://localhost:8080/",
          "height": 36
        },
        "id": "z-RLtXKDR3xb",
        "outputId": "91138e55-787d-4b87-fac4-6d8c40f3d62f"
      },
      "execution_count": 18,
      "outputs": [
        {
          "output_type": "execute_result",
          "data": {
            "text/plain": [
              "'mw2273.codfw.wmnet'"
            ],
            "application/vnd.google.colaboratory.intrinsic+json": {
              "type": "string"
            }
          },
          "metadata": {},
          "execution_count": 18
        }
      ]
    },
    {
      "cell_type": "code",
      "source": [
        "header[\"x-content-type-options\"]"
      ],
      "metadata": {
        "colab": {
          "base_uri": "https://localhost:8080/",
          "height": 36
        },
        "id": "8cU2_LdVR7oc",
        "outputId": "06aeb547-5d5c-41fa-bb39-9620c584c510"
      },
      "execution_count": 20,
      "outputs": [
        {
          "output_type": "execute_result",
          "data": {
            "text/plain": [
              "'nosniff'"
            ],
            "application/vnd.google.colaboratory.intrinsic+json": {
              "type": "string"
            }
          },
          "metadata": {},
          "execution_count": 20
        }
      ]
    },
    {
      "cell_type": "code",
      "source": [
        "header[\"content-language\"]"
      ],
      "metadata": {
        "colab": {
          "base_uri": "https://localhost:8080/",
          "height": 36
        },
        "id": "JcWNrEUASBDi",
        "outputId": "c3dc4025-1c42-4441-b2ed-6307ea70b9dd"
      },
      "execution_count": 21,
      "outputs": [
        {
          "output_type": "execute_result",
          "data": {
            "text/plain": [
              "'en'"
            ],
            "application/vnd.google.colaboratory.intrinsic+json": {
              "type": "string"
            }
          },
          "metadata": {},
          "execution_count": 21
        }
      ]
    },
    {
      "cell_type": "code",
      "source": [
        "header[\"vary\"]"
      ],
      "metadata": {
        "colab": {
          "base_uri": "https://localhost:8080/",
          "height": 36
        },
        "id": "0oDGO6cESKSn",
        "outputId": "a58c877f-9066-4146-9cac-89e57d480c45"
      },
      "execution_count": 22,
      "outputs": [
        {
          "output_type": "execute_result",
          "data": {
            "text/plain": [
              "'Accept-Encoding,Cookie,Authorization'"
            ],
            "application/vnd.google.colaboratory.intrinsic+json": {
              "type": "string"
            }
          },
          "metadata": {},
          "execution_count": 22
        }
      ]
    },
    {
      "cell_type": "code",
      "source": [
        "header[\"age\"]"
      ],
      "metadata": {
        "colab": {
          "base_uri": "https://localhost:8080/",
          "height": 36
        },
        "id": "7cBeb8hcSM6k",
        "outputId": "57bf7eb4-446f-43dc-8766-af6c4cb2e5a7"
      },
      "execution_count": 23,
      "outputs": [
        {
          "output_type": "execute_result",
          "data": {
            "text/plain": [
              "'2'"
            ],
            "application/vnd.google.colaboratory.intrinsic+json": {
              "type": "string"
            }
          },
          "metadata": {},
          "execution_count": 23
        }
      ]
    },
    {
      "cell_type": "code",
      "source": [
        "header[\"set-cookie\"]"
      ],
      "metadata": {
        "colab": {
          "base_uri": "https://localhost:8080/",
          "height": 72
        },
        "id": "YMZs75zqSShH",
        "outputId": "ebf6056b-e2b2-4186-9c13-eab1590bd6ef"
      },
      "execution_count": 24,
      "outputs": [
        {
          "output_type": "execute_result",
          "data": {
            "text/plain": [
              "'WMF-Last-Access=16-Mar-2023;Path=/;HttpOnly;secure;Expires=Mon, 17 Apr 2023 00:00:00 GMT, WMF-Last-Access-Global=16-Mar-2023;Path=/;Domain=.wikipedia.org;HttpOnly;secure;Expires=Mon, 17 Apr 2023 00:00:00 GMT, WMF-DP=e95;Path=/;HttpOnly;secure;Expires=Thu, 16 Mar 2023 00:00:00 GMT, GeoIP=US:NV:Las_Vegas:36.17:-115.12:v4; Path=/; secure; Domain=.wikipedia.org'"
            ],
            "application/vnd.google.colaboratory.intrinsic+json": {
              "type": "string"
            }
          },
          "metadata": {},
          "execution_count": 24
        }
      ]
    },
    {
      "cell_type": "code",
      "source": [
        "r.encoding"
      ],
      "metadata": {
        "colab": {
          "base_uri": "https://localhost:8080/",
          "height": 36
        },
        "id": "qLvDYZq-Sgbc",
        "outputId": "99747e46-6133-496e-b1d2-817fb5149cd2"
      },
      "execution_count": 25,
      "outputs": [
        {
          "output_type": "execute_result",
          "data": {
            "text/plain": [
              "'UTF-8'"
            ],
            "application/vnd.google.colaboratory.intrinsic+json": {
              "type": "string"
            }
          },
          "metadata": {},
          "execution_count": 25
        }
      ]
    },
    {
      "cell_type": "code",
      "source": [
        "r.text[0:100]"
      ],
      "metadata": {
        "colab": {
          "base_uri": "https://localhost:8080/",
          "height": 36
        },
        "id": "FvFtFkK8SnlH",
        "outputId": "7e37ce1d-b4fa-4da7-8c11-8656188c9d6c"
      },
      "execution_count": 26,
      "outputs": [
        {
          "output_type": "execute_result",
          "data": {
            "text/plain": [
              "'<!DOCTYPE html>\\n<html class=\"client-nojs vector-feature-language-in-header-enabled vector-feature-la'"
            ],
            "application/vnd.google.colaboratory.intrinsic+json": {
              "type": "string"
            }
          },
          "metadata": {},
          "execution_count": 26
        }
      ]
    },
    {
      "cell_type": "code",
      "source": [
        "url1=\"https://upload.wikimedia.org/wikipedia/commons/thumb/a/a3/Thailand_adm_location_map.svg/150px-Thailand_adm_location_map.svg.png\""
      ],
      "metadata": {
        "id": "2l-nePIpTO4a"
      },
      "execution_count": 52,
      "outputs": []
    },
    {
      "cell_type": "code",
      "source": [
        "r=requests.get(url1)"
      ],
      "metadata": {
        "id": "7YlbH-W0VV3V"
      },
      "execution_count": 53,
      "outputs": []
    },
    {
      "cell_type": "code",
      "source": [
        "print(r.headers)"
      ],
      "metadata": {
        "colab": {
          "base_uri": "https://localhost:8080/"
        },
        "id": "F_soPahRVWUZ",
        "outputId": "0999e1c1-1b7f-4c98-8bc7-6a526f194902"
      },
      "execution_count": 54,
      "outputs": [
        {
          "output_type": "stream",
          "name": "stdout",
          "text": [
            "{'date': 'Wed, 15 Mar 2023 19:27:56 GMT', 'etag': '2ee0e223f27094ed1a38847b89bf7cf3', 'server': 'ATS/9.1.4', 'content-type': 'image/png', 'content-length': '29087', 'last-modified': 'Thu, 31 Aug 2017 10:32:36 GMT', 'age': '60360', 'x-cache': 'cp4051 hit, cp4051 hit/2', 'x-cache-status': 'hit-front', 'server-timing': 'cache;desc=\"hit-front\", host;desc=\"cp4051\"', 'strict-transport-security': 'max-age=106384710; includeSubDomains; preload', 'report-to': '{ \"group\": \"wm_nel\", \"max_age\": 604800, \"endpoints\": [{ \"url\": \"https://intake-logging.wikimedia.org/v1/events?stream=w3c.reportingapi.network_error&schema_uri=/w3c/reportingapi/network_error/1.0.0\" }] }', 'nel': '{ \"report_to\": \"wm_nel\", \"max_age\": 604800, \"failure_fraction\": 0.05, \"success_fraction\": 0.0}', 'x-client-ip': '34.125.39.165', 'x-content-type-options': 'nosniff', 'access-control-allow-origin': '*', 'access-control-expose-headers': 'Age, Date, Content-Length, Content-Range, X-Content-Duration, X-Cache', 'timing-allow-origin': '*', 'accept-ranges': 'bytes'}\n"
          ]
        }
      ]
    },
    {
      "cell_type": "code",
      "source": [
        "r.headers['Content-Type']"
      ],
      "metadata": {
        "colab": {
          "base_uri": "https://localhost:8080/",
          "height": 36
        },
        "id": "6Vne-RExVbaH",
        "outputId": "d13a2bb1-a549-4aa5-c213-c999804b04f2"
      },
      "execution_count": 55,
      "outputs": [
        {
          "output_type": "execute_result",
          "data": {
            "text/plain": [
              "'image/png'"
            ],
            "application/vnd.google.colaboratory.intrinsic+json": {
              "type": "string"
            }
          },
          "metadata": {},
          "execution_count": 55
        }
      ]
    },
    {
      "cell_type": "code",
      "source": [
        "path=os.path.join(os.getcwd(),'Mae Hong Son is located in Thailand')\n",
        "path"
      ],
      "metadata": {
        "colab": {
          "base_uri": "https://localhost:8080/",
          "height": 36
        },
        "id": "8ba6e-qgVfyK",
        "outputId": "3b66291e-441e-4526-a50c-8e30c29721bc"
      },
      "execution_count": 57,
      "outputs": [
        {
          "output_type": "execute_result",
          "data": {
            "text/plain": [
              "'/content/Mae Hong Son is located in Thailand'"
            ],
            "application/vnd.google.colaboratory.intrinsic+json": {
              "type": "string"
            }
          },
          "metadata": {},
          "execution_count": 57
        }
      ]
    },
    {
      "cell_type": "code",
      "source": [
        "with open(path,'wb') as f:\n",
        "    f.write(r.content)"
      ],
      "metadata": {
        "id": "ju_IBUspWZu9"
      },
      "execution_count": 58,
      "outputs": []
    },
    {
      "cell_type": "code",
      "source": [
        "Image.open(path)  "
      ],
      "metadata": {
        "colab": {
          "base_uri": "https://localhost:8080/",
          "height": 281
        },
        "id": "o0Gzqi1rWgp7",
        "outputId": "f9b8ccad-c947-4da0-e464-eab269d3c250"
      },
      "execution_count": 59,
      "outputs": [
        {
          "output_type": "execute_result",
          "data": {
            "text/plain": [
              "<PIL.PngImagePlugin.PngImageFile image mode=RGB size=150x264 at 0x7FDDBB377F10>"
            ],
            "image/png": "[encoded data removed]"
          },
          "metadata": {},
          "execution_count": 59
        }
      ]
    },
    {
      "cell_type": "markdown",
      "source": [
        "Request by parameter"
      ],
      "metadata": {
        "id": "zOuH5zfVXGG0"
      }
    },
    {
      "cell_type": "code",
      "source": [
        "url_get=\"https://en.wikipedia.org/wiki/Mae_Hong_Son/get\""
      ],
      "metadata": {
        "id": "qQDfPQwTWkCp"
      },
      "execution_count": 60,
      "outputs": []
    },
    {
      "cell_type": "code",
      "source": [
        "r=requests.get(url)"
      ],
      "metadata": {
        "id": "UC7pxHiMXPzh"
      },
      "execution_count": 61,
      "outputs": []
    },
    {
      "cell_type": "code",
      "source": [
        "r.headers"
      ],
      "metadata": {
        "colab": {
          "base_uri": "https://localhost:8080/"
        },
        "id": "fVFtTgkeXlat",
        "outputId": "4090648c-8301-47f5-f5c6-f35a8d36cade"
      },
      "execution_count": 62,
      "outputs": [
        {
          "output_type": "execute_result",
          "data": {
            "text/plain": [
              "{'date': 'Thu, 16 Mar 2023 11:47:47 GMT', 'server': 'mw2273.codfw.wmnet', 'x-content-type-options': 'nosniff', 'content-language': 'en', 'vary': 'Accept-Encoding,Cookie,Authorization', 'last-modified': 'Wed, 15 Mar 2023 13:54:10 GMT', 'content-type': 'text/html; charset=UTF-8', 'content-encoding': 'gzip', 'age': '2031', 'x-cache': 'cp4037 miss, cp4037 hit/2', 'x-cache-status': 'hit-front', 'server-timing': 'cache;desc=\"hit-front\", host;desc=\"cp4037\"', 'strict-transport-security': 'max-age=106384710; includeSubDomains; preload', 'report-to': '{ \"group\": \"wm_nel\", \"max_age\": 604800, \"endpoints\": [{ \"url\": \"https://intake-logging.wikimedia.org/v1/events?stream=w3c.reportingapi.network_error&schema_uri=/w3c/reportingapi/network_error/1.0.0\" }] }', 'nel': '{ \"report_to\": \"wm_nel\", \"max_age\": 604800, \"failure_fraction\": 0.05, \"success_fraction\": 0.0}', 'set-cookie': 'WMF-Last-Access=16-Mar-2023;Path=/;HttpOnly;secure;Expires=Mon, 17 Apr 2023 12:00:00 GMT, WMF-Last-Access-Global=16-Mar-2023;Path=/;Domain=.wikipedia.org;HttpOnly;secure;Expires=Mon, 17 Apr 2023 12:00:00 GMT, WMF-DP=e95;Path=/;HttpOnly;secure;Expires=Fri, 17 Mar 2023 00:00:00 GMT, GeoIP=US:NV:Las_Vegas:36.17:-115.12:v4; Path=/; secure; Domain=.wikipedia.org', 'x-client-ip': '34.125.39.165', 'cache-control': 'private, s-maxage=0, max-age=0, must-revalidate', 'accept-ranges': 'bytes', 'content-length': '23600'}"
            ]
          },
          "metadata": {},
          "execution_count": 62
        }
      ]
    },
    {
      "cell_type": "code",
      "source": [
        "arr1=np.array(r.headers)\n",
        "arr1"
      ],
      "metadata": {
        "colab": {
          "base_uri": "https://localhost:8080/"
        },
        "id": "sG5bYIY3Xr1P",
        "outputId": "cfea2f32-5bc6-4cff-e79e-5bdaf1ef40ba"
      },
      "execution_count": 65,
      "outputs": [
        {
          "output_type": "execute_result",
          "data": {
            "text/plain": [
              "array(['date', 'server', 'x-content-type-options', 'content-language',\n",
              "       'vary', 'last-modified', 'content-type', 'content-encoding', 'age',\n",
              "       'x-cache', 'x-cache-status', 'server-timing',\n",
              "       'strict-transport-security', 'report-to', 'nel', 'set-cookie',\n",
              "       'x-client-ip', 'cache-control', 'accept-ranges', 'content-length'],\n",
              "      dtype='<U25')"
            ]
          },
          "metadata": {},
          "execution_count": 65
        }
      ]
    },
    {
      "cell_type": "code",
      "source": [
        "payload={\"date\":\"Thu, 16 Mar 2023 11:47:47 GMT\",\"x-content-type-options\":\"nosniff\"}\n",
        "r=requests.get(url_get,params=payload)"
      ],
      "metadata": {
        "id": "aTY8E-p-XyAA"
      },
      "execution_count": 66,
      "outputs": []
    },
    {
      "cell_type": "code",
      "source": [
        "r.url"
      ],
      "metadata": {
        "colab": {
          "base_uri": "https://localhost:8080/",
          "height": 36
        },
        "id": "VbJTPkDFYxUs",
        "outputId": "5ce53be4-7628-4b57-fd4b-5eae488704f8"
      },
      "execution_count": 67,
      "outputs": [
        {
          "output_type": "execute_result",
          "data": {
            "text/plain": [
              "'https://en.wikipedia.org/wiki/Mae_Hong_Son/get?date=Thu%2C+16+Mar+2023+11%3A47%3A47+GMT&x-content-type-options=nosniff'"
            ],
            "application/vnd.google.colaboratory.intrinsic+json": {
              "type": "string"
            }
          },
          "metadata": {},
          "execution_count": 67
        }
      ]
    },
    {
      "cell_type": "code",
      "source": [
        "print(\"request body:\", r.request.body)"
      ],
      "metadata": {
        "colab": {
          "base_uri": "https://localhost:8080/"
        },
        "id": "fHDVBkCtY4h5",
        "outputId": "b617811f-2056-4e2c-e55c-278d343f4727"
      },
      "execution_count": 68,
      "outputs": [
        {
          "output_type": "stream",
          "name": "stdout",
          "text": [
            "request body: None\n"
          ]
        }
      ]
    },
    {
      "cell_type": "code",
      "source": [
        "print(r.status_code)"
      ],
      "metadata": {
        "colab": {
          "base_uri": "https://localhost:8080/"
        },
        "id": "ULH0lEpEZGaS",
        "outputId": "3a75ff4d-fa97-4010-b1ee-803cfa5c11a3"
      },
      "execution_count": 69,
      "outputs": [
        {
          "output_type": "stream",
          "name": "stdout",
          "text": [
            "404\n"
          ]
        }
      ]
    },
    {
      "cell_type": "code",
      "source": [
        "print(r.text)"
      ],
      "metadata": {
        "colab": {
          "base_uri": "https://localhost:8080/"
        },
        "id": "C0ufmwlWZJQa",
        "outputId": "ff5b549a-ed5d-4609-e746-ba1b0a223566"
      },
      "execution_count": 70,
      "outputs": [
        {
          "output_type": "stream",
          "name": "stdout",
          "text": [
            "<!DOCTYPE html>\n",
            "<html class=\"client-nojs vector-feature-language-in-header-enabled vector-feature-language-in-main-page-header-disabled vector-feature-language-alert-in-sidebar-enabled vector-feature-sticky-header-disabled vector-feature-page-tools-disabled vector-feature-page-tools-pinned-disabled vector-feature-toc-pinned-enabled vector-feature-main-menu-pinned-disabled vector-feature-limited-width-enabled vector-feature-limited-width-content-enabled\" lang=\"en\" dir=\"ltr\">\n",
            "<head>\n",
            "<meta charset=\"UTF-8\"/>\n",
            "<title>Mae Hong Son/get - Wikipedia</title>\n",
            "<script>document.documentElement.className=\"client-js vector-feature-language-in-header-enabled vector-feature-language-in-main-page-header-disabled vector-feature-language-alert-in-sidebar-enabled vector-feature-sticky-header-disabled vector-feature-page-tools-disabled vector-feature-page-tools-pinned-disabled vector-feature-toc-pinned-enabled vector-feature-main-menu-pinned-disabled vector-feature-limited-width-enabled vector-feature-limited-width-content-enabled\";(function(){var cookie=document.cookie.match(/(?:^|; )enwikimwclientprefs=([^;]+)/);if(cookie){var featureName=cookie[1];document.documentElement.className=document.documentElement.className.replace(featureName+'-enabled',featureName+'-disabled');}}());RLCONF={\"wgBreakFrames\":false,\"wgSeparatorTransformTable\":[\"\",\"\"],\"wgDigitTransformTable\":[\"\",\"\"],\"wgDefaultDateFormat\":\"dmy\",\"wgMonthNames\":[\"\",\"January\",\"February\",\"March\",\"April\",\"May\",\"June\",\"July\",\"August\",\"September\",\"October\",\"November\",\"December\"],\"wgRequestId\":\n",
            "\"1d9dae93-eaf3-4d77-bb4b-57ae05e2b776\",\"wgCSPNonce\":false,\"wgCanonicalNamespace\":\"\",\"wgCanonicalSpecialPageName\":false,\"wgNamespaceNumber\":0,\"wgPageName\":\"Mae_Hong_Son/get\",\"wgTitle\":\"Mae Hong Son/get\",\"wgCurRevisionId\":0,\"wgRevisionId\":0,\"wgArticleId\":0,\"wgIsArticle\":true,\"wgIsRedirect\":false,\"wgAction\":\"view\",\"wgUserName\":null,\"wgUserGroups\":[\"*\"],\"wgCategories\":[],\"wgPageContentLanguage\":\"en\",\"wgPageContentModel\":\"wikitext\",\"wgRelevantPageName\":\"Mae_Hong_Son/get\",\"wgRelevantArticleId\":0,\"wgIsProbablyEditable\":false,\"wgRelevantPageIsProbablyEditable\":false,\"wgRestrictionCreate\":[],\"wgFlaggedRevsParams\":{\"tags\":{\"status\":{\"levels\":1}}},\"wgVisualEditor\":{\"pageLanguageCode\":\"en\",\"pageLanguageDir\":\"ltr\",\"pageVariantFallbacks\":\"en\"},\"wgMFDisplayWikibaseDescriptions\":{\"search\":true,\"watchlist\":true,\"tagline\":false,\"nearby\":true},\"wgWMESchemaEditAttemptStepOversample\":false,\"wgWMEPageLength\":0,\"wgNoticeProject\":\"wikipedia\",\"wgVector2022PreviewPages\":[],\"wgMediaViewerOnClick\":true,\n",
            "\"wgMediaViewerEnabledByDefault\":true,\"wgPopupsFlags\":10,\"wgULSCurrentAutonym\":\"English\",\"wgEditSubmitButtonLabelPublish\":true,\"wgCentralAuthMobileDomain\":false,\"wgULSPosition\":\"interlanguage\",\"wgULSisCompactLinksEnabled\":true,\"wgULSisLanguageSelectorEmpty\":true,\"GEHomepageSuggestedEditsEnableTopics\":true,\"wgGETopicsMatchModeEnabled\":false,\"wgGEStructuredTaskRejectionReasonTextInputEnabled\":false};RLSTATE={\"skins.vector.user.styles\":\"ready\",\"ext.globalCssJs.user.styles\":\"ready\",\"site.styles\":\"ready\",\"user.styles\":\"ready\",\"skins.vector.user\":\"ready\",\"ext.globalCssJs.user\":\"ready\",\"user\":\"ready\",\"user.options\":\"loading\",\"mediawiki.ui.button\":\"ready\",\"skins.vector.styles\":\"ready\",\"skins.vector.icons\":\"ready\",\"mediawiki.ui.icon\":\"ready\",\"ext.visualEditor.desktopArticleTarget.noscript\":\"ready\",\"ext.wikimediaBadges\":\"ready\",\"ext.uls.interlanguage\":\"ready\"};RLPAGEMODULES=[\"site\",\"mediawiki.page.ready\",\"skins.vector.js\",\"skins.vector.es6\",\"mmv.head\",\"mmv.bootstrap.autostart\",\n",
            "\"ext.visualEditor.desktopArticleTarget.init\",\"ext.visualEditor.targetLoader\",\"ext.eventLogging\",\"ext.wikimediaEvents\",\"ext.navigationTiming\",\"ext.cx.eventlogging.campaigns\",\"ext.centralNotice.geoIP\",\"ext.centralNotice.startUp\",\"ext.gadget.ReferenceTooltips\",\"ext.gadget.charinsert\",\"ext.gadget.extra-toolbar-buttons\",\"ext.gadget.switcher\",\"ext.centralauth.centralautologin\",\"ext.popups\",\"ext.echo.centralauth\",\"ext.uls.compactlinks\",\"ext.uls.interface\",\"ext.growthExperiments.SuggestedEditSession\"];</script>\n",
            "<script>(RLQ=window.RLQ||[]).push(function(){mw.loader.implement(\"user.options@12s5i\",function($,jQuery,require,module){mw.user.tokens.set({\"patrolToken\":\"+\\\\\",\"watchToken\":\"+\\\\\",\"csrfToken\":\"+\\\\\"});});});</script>\n",
            "<link rel=\"stylesheet\" href=\"/w/load.php?lang=en&amp;modules=ext.uls.interlanguage%7Cext.visualEditor.desktopArticleTarget.noscript%7Cext.wikimediaBadges%7Cmediawiki.ui.button%2Cicon%7Cskins.vector.icons%2Cstyles&amp;only=styles&amp;skin=vector-2022\"/>\n",
            "<script async=\"\" src=\"/w/load.php?lang=en&amp;modules=startup&amp;only=scripts&amp;raw=1&amp;skin=vector-2022\"></script>\n",
            "<meta name=\"ResourceLoaderDynamicStyles\" content=\"\"/>\n",
            "<link rel=\"stylesheet\" href=\"/w/load.php?lang=en&amp;modules=site.styles&amp;only=styles&amp;skin=vector-2022\"/>\n",
            "<meta name=\"generator\" content=\"MediaWiki 1.40.0-wmf.26\"/>\n",
            "<meta name=\"referrer\" content=\"origin\"/>\n",
            "<meta name=\"referrer\" content=\"origin-when-crossorigin\"/>\n",
            "<meta name=\"referrer\" content=\"origin-when-cross-origin\"/>\n",
            "<meta name=\"robots\" content=\"noindex,nofollow,max-image-preview:standard\"/>\n",
            "<meta name=\"format-detection\" content=\"telephone=no\"/>\n",
            "<meta name=\"viewport\" content=\"width=1000\"/>\n",
            "<meta property=\"og:title\" content=\"Mae Hong Son/get - Wikipedia\"/>\n",
            "<meta property=\"og:type\" content=\"website\"/>\n",
            "<link rel=\"preconnect\" href=\"//upload.wikimedia.org\"/>\n",
            "<link rel=\"alternate\" media=\"only screen and (max-width: 720px)\" href=\"//en.m.wikipedia.org/wiki/Mae_Hong_Son/get\"/>\n",
            "<link rel=\"apple-touch-icon\" href=\"/static/apple-touch/wikipedia.png\"/>\n",
            "<link rel=\"icon\" href=\"/static/favicon/wikipedia.ico\"/>\n",
            "<link rel=\"search\" type=\"application/opensearchdescription+xml\" href=\"/w/opensearch_desc.php\" title=\"Wikipedia (en)\"/>\n",
            "<link rel=\"EditURI\" type=\"application/rsd+xml\" href=\"//en.wikipedia.org/w/api.php?action=rsd\"/>\n",
            "<link rel=\"canonical\" href=\"https://en.wikipedia.org/wiki/Mae_Hong_Son/get\"/>\n",
            "<link rel=\"license\" href=\"https://creativecommons.org/licenses/by-sa/3.0/\"/>\n",
            "<link rel=\"alternate\" type=\"application/atom+xml\" title=\"Wikipedia Atom feed\" href=\"/w/index.php?title=Special:RecentChanges&amp;feed=atom\"/>\n",
            "<link rel=\"dns-prefetch\" href=\"//meta.wikimedia.org\" />\n",
            "<link rel=\"dns-prefetch\" href=\"//login.wikimedia.org\"/>\n",
            "</head>\n",
            "<body class=\"skin-vector skin-vector-search-vue mediawiki ltr sitedir-ltr mw-hide-empty-elt ns-0 ns-subject page-Mae_Hong_Son_get rootpage-Mae_Hong_Son_get skin-vector-2022 action-view\"><div class=\"mw-page-container\">\n",
            "\t<a class=\"mw-jump-link\" href=\"#bodyContent\">Jump to content</a>\n",
            "\t<div class=\"mw-page-container-inner\">\n",
            "\t\t<input\n",
            "\t\t\ttype=\"checkbox\"\n",
            "\t\t\tid=\"mw-sidebar-checkbox\"\n",
            "\t\t\tclass=\"mw-checkbox-hack-checkbox\"\n",
            "\t\t\t>\n",
            "\t\t<header class=\"mw-header mw-ui-icon-flush-left mw-ui-icon-flush-right\">\n",
            "\t\t\t<div class=\"vector-header-start\">\n",
            "\t\t\t\t\t<label\n",
            "\t\t\t\tid=\"mw-sidebar-button\"\n",
            "\t\t\t\tclass=\"mw-checkbox-hack-button mw-ui-icon mw-ui-button mw-ui-quiet mw-ui-icon-element mw-ui-icon-flush-right\"\n",
            "\t\t\t\tfor=\"mw-sidebar-checkbox\"\n",
            "\t\t\t\trole=\"button\"\n",
            "\t\t\t\taria-controls=\"mw-panel\"\n",
            "\t\t\t\tdata-event-name=\"ui.sidebar\"\n",
            "\t\t\t\ttabindex=\"0\"\n",
            "\t\t\t\ttitle=\"Main menu\">\n",
            "\t\t\t\t<span>Toggle sidebar</span>\n",
            "\t\t\t</label>\n",
            "\t\t\n",
            "<a href=\"/wiki/Main_Page\" class=\"mw-logo\">\n",
            "\t<img class=\"mw-logo-icon\" src=\"/static/images/icons/wikipedia.png\" alt=\"\"\n",
            "\t\taria-hidden=\"true\" height=\"50\" width=\"50\">\n",
            "\t<span class=\"mw-logo-container\">\n",
            "\t\t<img class=\"mw-logo-wordmark\" alt=\"Wikipedia\"\n",
            "\t\t\tsrc=\"/static/images/mobile/copyright/wikipedia-wordmark-en.svg\" style=\"width: 7.5em; height: 1.125em;\">\n",
            "\t\t<img class=\"mw-logo-tagline\"\n",
            "\t\t\talt=\"The Free Encyclopedia\"\n",
            "\t\t\tsrc=\"/static/images/mobile/copyright/wikipedia-tagline-en.svg\" width=\"117\" height=\"13\" style=\"width: 7.3125em; height: 0.8125em;\">\n",
            "\t</span>\n",
            "</a>\n",
            "\n",
            "\t\t\t</div>\n",
            "\t\t\t<div class=\"vector-header-end\">\n",
            "\t\t\t\t\n",
            "<div id=\"p-search\" role=\"search\" class=\"vector-search-box-vue  vector-search-box-collapses  vector-search-box-show-thumbnail vector-search-box-auto-expand-width vector-search-box\">\n",
            "\t<a href=\"/wiki/Special:Search\"\n",
            "\t\n",
            "\t\t\n",
            "\t\t\n",
            "\t\t\n",
            "\t\ttitle=\"Search Wikipedia [f]\"\n",
            "\t\taccesskey=\"f\"\n",
            "\t\tclass=\"mw-ui-button mw-ui-quiet mw-ui-icon mw-ui-icon-element mw-ui-icon-wikimedia-search search-toggle\">\n",
            "\t\t<span>Search</span>\n",
            "\t</a>\n",
            "\t\n",
            "\t<div>\n",
            "\t\t<form action=\"/w/index.php\" id=\"searchform\"\n",
            "\t\t\tclass=\"vector-search-box-form\">\n",
            "\t\t\t<div id=\"simpleSearch\"\n",
            "\t\t\t\tclass=\"vector-search-box-inner\"\n",
            "\t\t\t\t data-search-loc=\"header-moved\">\n",
            "\t\t\t\t<input class=\"vector-search-box-input\"\n",
            "\t\t\t\t\t type=\"search\" name=\"search\" placeholder=\"Search Wikipedia\" aria-label=\"Search Wikipedia\" autocapitalize=\"sentences\" title=\"Search Wikipedia [f]\" accesskey=\"f\" id=\"searchInput\"\n",
            "\t\t\t\t>\n",
            "\t\t\t\t<input type=\"hidden\" name=\"title\" value=\"Special:Search\">\n",
            "\t\t\t\t<input id=\"mw-searchButton\"\n",
            "\t\t\t\t\t class=\"searchButton mw-fallbackSearchButton\" type=\"submit\" name=\"fulltext\" title=\"Search Wikipedia for this text\" value=\"Search\">\n",
            "\t\t\t\t<input id=\"searchButton\"\n",
            "\t\t\t\t\t class=\"searchButton\" type=\"submit\" name=\"go\" title=\"Go to a page with this exact name if it exists\" value=\"Go\">\n",
            "\t\t\t</div>\n",
            "\t\t</form>\n",
            "\t</div>\n",
            "</div>\n",
            "\n",
            "\t\t\t\t<nav class=\"vector-user-links\" aria-label=\"Personal tools\" role=\"navigation\" >\n",
            "\t\n",
            "<div id=\"p-vector-user-menu-overflow\" class=\"vector-menu mw-portlet mw-portlet-vector-user-menu-overflow\"  >\n",
            "\t<div class=\"vector-menu-content\">\n",
            "\t\t\n",
            "\t\t<ul class=\"vector-menu-content-list\"><li id=\"pt-createaccount-2\" class=\"user-links-collapsible-item mw-list-item\"><a href=\"/w/index.php?title=Special:CreateAccount&amp;returnto=Mae+Hong+Son%2Fget&amp;returntoquery=date%3DThu%252C%2B16%2BMar%2B2023%2B11%253A47%253A47%2BGMT%26x-content-type-options%3Dnosniff\" title=\"You are encouraged to create an account and log in; however, it is not mandatory\"><span>Create account</span></a></li><li id=\"pt-login-2\" class=\"user-links-collapsible-item mw-list-item\"><a href=\"/w/index.php?title=Special:UserLogin&amp;returnto=Mae+Hong+Son%2Fget&amp;returntoquery=date%3DThu%252C%2B16%2BMar%2B2023%2B11%253A47%253A47%2BGMT%26x-content-type-options%3Dnosniff\" title=\"You&#039;re encouraged to log in; however, it&#039;s not mandatory. [o]\" accesskey=\"o\"><span>Log in</span></a></li></ul>\n",
            "\t\t\n",
            "\t</div>\n",
            "</div>\n",
            "\n",
            "\t\n",
            "<div id=\"vector-user-links-dropdown\" class=\"vector-menu vector-dropdown vector-menu-dropdown vector-user-menu vector-user-menu-logged-out\"  title=\"Log in and more options\" >\n",
            "\t<input type=\"checkbox\"\n",
            "\t\tid=\"vector-user-links-dropdown-checkbox\"\n",
            "\t\trole=\"button\"\n",
            "\t\taria-haspopup=\"true\"\n",
            "\t\tdata-event-name=\"ui.dropdown-vector-user-links-dropdown\"\n",
            "\t\tclass=\"vector-menu-checkbox \"\n",
            "\t\t\n",
            "\t\taria-label=\"Personal tools\"\n",
            "\t\t\n",
            "\t/>\n",
            "\t<label\n",
            "\t\tid=\"vector-user-links-dropdown-label\"\n",
            "\t\tfor=\"vector-user-links-dropdown-checkbox\"\n",
            "\t\tclass=\"vector-menu-heading mw-checkbox-hack-button mw-ui-button mw-ui-quiet mw-ui-icon-element \"\n",
            "\t\taria-hidden=\"true\"\n",
            "\t\t\n",
            "\t>\n",
            "\t\t<span class=\"mw-ui-icon mw-ui-icon-ellipsis mw-ui-icon-wikimedia-ellipsis\"></span>\n",
            "\n",
            "\t\t<span class=\"vector-menu-heading-label\">Personal tools</span>\n",
            "\t</label>\n",
            "\t<div class=\"vector-menu-content vector-dropdown-content\">\n",
            "\n",
            "\n",
            "\t\t\n",
            "<div id=\"p-personal\" class=\"vector-menu mw-portlet mw-portlet-personal user-links-collapsible-item\"  title=\"User menu\" >\n",
            "\t<div class=\"vector-menu-content\">\n",
            "\t\t\n",
            "\t\t<ul class=\"vector-menu-content-list\"><li id=\"pt-createaccount\" class=\"user-links-collapsible-item mw-list-item\"><a href=\"/w/index.php?title=Special:CreateAccount&amp;returnto=Mae+Hong+Son%2Fget&amp;returntoquery=date%3DThu%252C%2B16%2BMar%2B2023%2B11%253A47%253A47%2BGMT%26x-content-type-options%3Dnosniff\" title=\"You are encouraged to create an account and log in; however, it is not mandatory\"><span class=\"mw-ui-icon mw-ui-icon-userAdd mw-ui-icon-wikimedia-userAdd\"></span> <span>Create account</span></a></li><li id=\"pt-login\" class=\"user-links-collapsible-item mw-list-item\"><a href=\"/w/index.php?title=Special:UserLogin&amp;returnto=Mae+Hong+Son%2Fget&amp;returntoquery=date%3DThu%252C%2B16%2BMar%2B2023%2B11%253A47%253A47%2BGMT%26x-content-type-options%3Dnosniff\" title=\"You&#039;re encouraged to log in; however, it&#039;s not mandatory. [o]\" accesskey=\"o\"><span class=\"mw-ui-icon mw-ui-icon-logIn mw-ui-icon-wikimedia-logIn\"></span> <span>Log in</span></a></li></ul>\n",
            "\t\t\n",
            "\t</div>\n",
            "</div>\n",
            "\n",
            "<div id=\"p-user-menu-anon-editor\" class=\"vector-menu mw-portlet mw-portlet-user-menu-anon-editor\"  >\n",
            "\t<div class=\"vector-menu-heading\">\n",
            "\t\tPages for logged out editors <a href=\"/wiki/Help:Introduction\" aria-label=\"Learn more about editing\"><span>learn more</span></a>\n",
            "\t</div>\n",
            "\t<div class=\"vector-menu-content\">\n",
            "\t\t\n",
            "\t\t<ul class=\"vector-menu-content-list\"><li id=\"pt-anoncontribs\" class=\"mw-list-item\"><a href=\"/wiki/Special:MyContributions\" title=\"A list of edits made from this IP address [y]\" accesskey=\"y\"><span>Contributions</span></a></li><li id=\"pt-anontalk\" class=\"mw-list-item\"><a href=\"/wiki/Special:MyTalk\" title=\"Discussion about edits from this IP address [n]\" accesskey=\"n\"><span>Talk</span></a></li></ul>\n",
            "\t\t\n",
            "\t</div>\n",
            "</div>\n",
            "\n",
            "\t\n",
            "\t</div>\n",
            "</div>\n",
            "</nav>\n",
            "\n",
            "\t\t\t</div>\n",
            "\t\t</header>\n",
            "\t\t<div class=\"vector-main-menu-container vector-sidebar-container-no-toc\">\n",
            "\t\t\t<div id=\"mw-navigation\">\n",
            "\t\t\t\t<nav id=\"mw-panel\" class=\"vector-main-menu-landmark\" aria-label=\"Site\" role=\"navigation\">\n",
            "\t\t\t\t\t\t\n",
            "<div id=\"vector-main-menu\" class=\"vector-main-menu vector-pinnable-element\">\n",
            "\t\n",
            "\t\n",
            "<div id=\"p-navigation\" class=\"vector-main-menu-group vector-menu mw-portlet mw-portlet-navigation\"  >\n",
            "\t<div\n",
            "\t\tid=\"p-navigation-label\"\n",
            "\t\tclass=\"vector-menu-heading \"\n",
            "\t\t\n",
            "\t>\n",
            "\t\t<span class=\"vector-menu-heading-label\">Navigation</span>\n",
            "\t</div>\n",
            "\t<div class=\"vector-menu-content\">\n",
            "\t\t\n",
            "\t\t<ul class=\"vector-menu-content-list\"><li id=\"n-mainpage-description\" class=\"mw-list-item\"><a href=\"/wiki/Main_Page\" title=\"Visit the main page [z]\" accesskey=\"z\"><span>Main page</span></a></li><li id=\"n-contents\" class=\"mw-list-item\"><a href=\"/wiki/Wikipedia:Contents\" title=\"Guides to browsing Wikipedia\"><span>Contents</span></a></li><li id=\"n-currentevents\" class=\"mw-list-item\"><a href=\"/wiki/Portal:Current_events\" title=\"Articles related to current events\"><span>Current events</span></a></li><li id=\"n-randompage\" class=\"mw-list-item\"><a href=\"/wiki/Special:Random\" title=\"Visit a randomly selected article [x]\" accesskey=\"x\"><span>Random article</span></a></li><li id=\"n-aboutsite\" class=\"mw-list-item\"><a href=\"/wiki/Wikipedia:About\" title=\"Learn about Wikipedia and how it works\"><span>About Wikipedia</span></a></li><li id=\"n-contactpage\" class=\"mw-list-item\"><a href=\"//en.wikipedia.org/wiki/Wikipedia:Contact_us\" title=\"How to contact Wikipedia\"><span>Contact us</span></a></li><li id=\"n-sitesupport\" class=\"mw-list-item\"><a href=\"https://donate.wikimedia.org/wiki/Special:FundraiserRedirector?utm_source=donate&amp;utm_medium=sidebar&amp;utm_campaign=C13_en.wikipedia.org&amp;uselang=en\" title=\"Support us by donating to the Wikimedia Foundation\"><span>Donate</span></a></li></ul>\n",
            "\t\t\n",
            "\t</div>\n",
            "</div>\n",
            "\n",
            "\t\n",
            "\t\n",
            "<div id=\"p-interaction\" class=\"vector-main-menu-group vector-menu mw-portlet mw-portlet-interaction\"  >\n",
            "\t<div\n",
            "\t\tid=\"p-interaction-label\"\n",
            "\t\tclass=\"vector-menu-heading \"\n",
            "\t\t\n",
            "\t>\n",
            "\t\t<span class=\"vector-menu-heading-label\">Contribute</span>\n",
            "\t</div>\n",
            "\t<div class=\"vector-menu-content\">\n",
            "\t\t\n",
            "\t\t<ul class=\"vector-menu-content-list\"><li id=\"n-help\" class=\"mw-list-item\"><a href=\"/wiki/Help:Contents\" title=\"Guidance on how to use and edit Wikipedia\"><span>Help</span></a></li><li id=\"n-introduction\" class=\"mw-list-item\"><a href=\"/wiki/Help:Introduction\" title=\"Learn how to edit Wikipedia\"><span>Learn to edit</span></a></li><li id=\"n-portal\" class=\"mw-list-item\"><a href=\"/wiki/Wikipedia:Community_portal\" title=\"The hub for editors\"><span>Community portal</span></a></li><li id=\"n-recentchanges\" class=\"mw-list-item\"><a href=\"/wiki/Special:RecentChanges\" title=\"A list of recent changes to Wikipedia [r]\" accesskey=\"r\"><span>Recent changes</span></a></li><li id=\"n-upload\" class=\"mw-list-item\"><a href=\"/wiki/Wikipedia:File_upload_wizard\" title=\"Add images or other media for use on Wikipedia\"><span>Upload file</span></a></li></ul>\n",
            "\t\t\n",
            "\t</div>\n",
            "</div>\n",
            "\n",
            "<div id=\"p-tb\" class=\"vector-main-menu-group vector-menu mw-portlet mw-portlet-tb\"  >\n",
            "\t<div\n",
            "\t\tid=\"p-tb-label\"\n",
            "\t\tclass=\"vector-menu-heading \"\n",
            "\t\t\n",
            "\t>\n",
            "\t\t<span class=\"vector-menu-heading-label\">Tools</span>\n",
            "\t</div>\n",
            "\t<div class=\"vector-menu-content\">\n",
            "\t\t\n",
            "\t\t<ul class=\"vector-menu-content-list\"><li id=\"t-whatlinkshere\" class=\"mw-list-item\"><a href=\"/wiki/Special:WhatLinksHere/Mae_Hong_Son/get\" title=\"List of all English Wikipedia pages containing links to this page [j]\" accesskey=\"j\"><span>What links here</span></a></li><li id=\"t-upload\" class=\"mw-list-item\"><a href=\"/wiki/Wikipedia:File_Upload_Wizard\" title=\"Upload files [u]\" accesskey=\"u\"><span>Upload file</span></a></li><li id=\"t-specialpages\" class=\"mw-list-item\"><a href=\"/wiki/Special:SpecialPages\" title=\"A list of all special pages [q]\" accesskey=\"q\"><span>Special pages</span></a></li><li id=\"t-print\" class=\"mw-list-item\"><a href=\"javascript:print();\" rel=\"alternate\" title=\"Printable version of this page [p]\" accesskey=\"p\"><span>Printable version</span></a></li><li id=\"t-info\" class=\"mw-list-item\"><a href=\"/w/index.php?title=Mae_Hong_Son/get&amp;action=info\" title=\"More information about this page\"><span>Page information</span></a></li></ul>\n",
            "\t\t\n",
            "\t</div>\n",
            "</div>\n",
            "\n",
            "\t\n",
            "<div class=\"vector-main-menu-action vector-main-menu-action-lang-alert\">\n",
            "\t<div class=\"vector-main-menu-action-item\">\n",
            "\t\t<div class=\"vector-main-menu-action-heading vector-menu-heading\">Languages</div>\n",
            "\t\t<div class=\"vector-main-menu-action-content vector-menu-content\">\n",
            "\t\t\t<div class=\"mw-message-box-notice vector-language-sidebar-alert mw-message-box\">Language links are at the top of the page across from the title.</div>\n",
            "\t\t</div>\n",
            "\t</div>\n",
            "</div>\n",
            "\n",
            "\n",
            "</div>\n",
            "\n",
            "\t\t\t\t</nav>\n",
            "\t\t\t</div>\n",
            "\t\t</div>\n",
            "\t\t<div class=\"vector-sitenotice-container\">\n",
            "\t\t\t<div id=\"siteNotice\"><!-- CentralNotice --></div>\n",
            "\t\t</div>\n",
            "\t\t<div class=\"mw-content-container\">\n",
            "\t\t\t<main id=\"content\" class=\"mw-body\" role=\"main\">\n",
            "\t\t\t\t<header class=\"mw-body-header vector-page-titlebar\">\n",
            "\t\t\t\t\t<h1 id=\"firstHeading\" class=\"firstHeading mw-first-heading\"><span class=\"mw-page-title-main\">Mae Hong Son/get</span></h1>\n",
            "\t\t\t\t\n",
            "\t\t\t\t\t\t\t\n",
            "<div id=\"p-lang-btn\" class=\"vector-menu vector-dropdown vector-menu-dropdown mw-portlet mw-portlet-lang\"  >\n",
            "\t<input type=\"checkbox\"\n",
            "\t\tid=\"p-lang-btn-checkbox\"\n",
            "\t\trole=\"button\"\n",
            "\t\taria-haspopup=\"true\"\n",
            "\t\tdata-event-name=\"ui.dropdown-p-lang-btn\"\n",
            "\t\tclass=\"vector-menu-checkbox mw-interlanguage-selector-empty\"\n",
            "\t\taria-label=\"This article exist only in this language. Add the article for other languages\"\n",
            "\t\t\n",
            "\t\t\n",
            "\t/>\n",
            "\t<label\n",
            "\t\tid=\"p-lang-btn-label\"\n",
            "\t\tfor=\"p-lang-btn-checkbox\"\n",
            "\t\tclass=\"vector-menu-heading mw-ui-button mw-ui-quiet mw-portlet-lang-heading-empty\"\n",
            "\t\taria-hidden=\"true\"\n",
            "\t\t\n",
            "\t>\n",
            "\t\t<span class=\"mw-ui-icon mw-ui-icon-language mw-ui-icon-wikimedia-language\"></span>\n",
            "\n",
            "\t\t<span class=\"vector-menu-heading-label\"></span>\n",
            "\t</label>\n",
            "\t<div class=\"vector-menu-content vector-dropdown-content\">\n",
            "\n",
            "\t\t<div class=\"mw-portlet-empty-language-selector-body\">\n",
            "\t\t\t\t\t\tPage contents not supported in other languages.\n",
            "\t\t\t\t\t</div>\n",
            "\t\t\t\n",
            "\t</div>\n",
            "</div>\n",
            "\t\t\t\t</header>\n",
            "\t\t\t\t<div class=\"vector-page-toolbar\">\n",
            "\t\t\t\t\t<div class=\"vector-page-toolbar-container\">\n",
            "\t\t\t\t\t\t<div id=\"left-navigation\">\n",
            "\t\t\t\t\t\t\t<nav aria-label=\"Namespaces\">\n",
            "\t\t\t\t\t\t\t\t\n",
            "<div id=\"p-associated-pages\" class=\"vector-menu vector-menu-tabs mw-portlet mw-portlet-associated-pages\"  >\n",
            "\t<div class=\"vector-menu-content\">\n",
            "\t\t\n",
            "\t\t<ul class=\"vector-menu-content-list\"><li id=\"ca-nstab-main\" class=\"selected vector-tab-noicon mw-list-item\"><a href=\"/w/index.php?title=Mae_Hong_Son/get&amp;action=edit&amp;redlink=1\" title=\"View the content page (page does not exist) [c]\" accesskey=\"c\"><span>Article</span></a></li><li id=\"ca-talk\" class=\"new vector-tab-noicon mw-list-item\"><a href=\"/w/index.php?title=Talk:Mae_Hong_Son/get&amp;action=edit&amp;redlink=1\" rel=\"discussion\" title=\"Discuss improvements to the content page (page does not exist) [t]\" accesskey=\"t\"><span>Talk</span></a></li></ul>\n",
            "\t\t\n",
            "\t</div>\n",
            "</div>\n",
            "\n",
            "\t\t\t\t\t\t\t\t\n",
            "\n",
            "<div id=\"p-variants\" class=\"vector-menu vector-dropdown vector-menu-dropdown mw-portlet mw-portlet-variants emptyPortlet\"  >\n",
            "\t<input type=\"checkbox\"\n",
            "\t\tid=\"p-variants-checkbox\"\n",
            "\t\trole=\"button\"\n",
            "\t\taria-haspopup=\"true\"\n",
            "\t\tdata-event-name=\"ui.dropdown-p-variants\"\n",
            "\t\tclass=\"vector-menu-checkbox\"\n",
            "\t\taria-label=\"Change language variant\"\n",
            "\t\t\n",
            "\t\t\n",
            "\t/>\n",
            "\t<label\n",
            "\t\tid=\"p-variants-label\"\n",
            "\t\tfor=\"p-variants-checkbox\"\n",
            "\t\tclass=\"vector-menu-heading \"\n",
            "\t\taria-hidden=\"true\"\n",
            "\t\t\n",
            "\t>\n",
            "\t\t\n",
            "\t\t<span class=\"vector-menu-heading-label\">English</span>\n",
            "\t</label>\n",
            "\t<div class=\"vector-menu-content vector-dropdown-content\">\n",
            "\n",
            "\t<div class=\"vector-menu-content\">\n",
            "\t\t\n",
            "\t\t<ul class=\"vector-menu-content-list\"></ul>\n",
            "\t\t\n",
            "\t</div>\n",
            "\n",
            "\t</div>\n",
            "</div>\n",
            "\t\t\t\t\t\t\t</nav>\n",
            "\t\t\t\t\t\t</div>\n",
            "\t\t\t\t\t\t<div id=\"right-navigation\" class=\"vector-collapsible\">\n",
            "\t\t\t\t\t\t\t<nav aria-label=\"Views\">\n",
            "\t\t\t\t\t\t\t\t\n",
            "<div id=\"p-views\" class=\"vector-menu vector-menu-tabs mw-portlet mw-portlet-views emptyPortlet\"  >\n",
            "\t<div class=\"vector-menu-content\">\n",
            "\t\t\n",
            "\t\t<ul class=\"vector-menu-content-list\"></ul>\n",
            "\t\t\n",
            "\t</div>\n",
            "</div>\n",
            "\n",
            "\t\t\t\t\t\t\t</nav>\n",
            "\t\t\t\t\n",
            "\t\t\t\t\t\t\t<nav class=\"vector-page-tools-landmark\" aria-label=\"More options\">\n",
            "\t\t\t\t\t\t\t\t\n",
            "\n",
            "<div id=\"p-cactions\" class=\"vector-menu vector-dropdown vector-menu-dropdown mw-portlet mw-portlet-cactions emptyPortlet\"  title=\"More options\" >\n",
            "\t<input type=\"checkbox\"\n",
            "\t\tid=\"p-cactions-checkbox\"\n",
            "\t\trole=\"button\"\n",
            "\t\taria-haspopup=\"true\"\n",
            "\t\tdata-event-name=\"ui.dropdown-p-cactions\"\n",
            "\t\tclass=\"vector-menu-checkbox\"\n",
            "\t\t\n",
            "\t\taria-label=\"More\"\n",
            "\t\t\n",
            "\t/>\n",
            "\t<label\n",
            "\t\tid=\"p-cactions-label\"\n",
            "\t\tfor=\"p-cactions-checkbox\"\n",
            "\t\tclass=\"vector-menu-heading\"\n",
            "\t\taria-hidden=\"true\"\n",
            "\t\t\n",
            "\t>\n",
            "\t\t\n",
            "\t\t<span class=\"vector-menu-heading-label\">More</span>\n",
            "\t</label>\n",
            "\t<div class=\"vector-menu-content vector-dropdown-content\">\n",
            "\n",
            "\t<div class=\"vector-menu-content\">\n",
            "\t\t\n",
            "\t\t<ul class=\"vector-menu-content-list\"></ul>\n",
            "\t\t\n",
            "\t</div>\n",
            "\n",
            "\t</div>\n",
            "</div>\n",
            "\t\t\t\t\t\t\t</nav>\n",
            "\t\t\t\t\t\t</div>\n",
            "\t\t\t\t\t</div>\n",
            "\t\t\t\t</div>\n",
            "\t\t\t\t\n",
            "\t\t\t\t<div id=\"bodyContent\" class=\"vector-body\" aria-labelledby=\"firstHeading\" data-mw-ve-target-container>\n",
            "\t\t\t\t\t<div class=\"vector-body-before-content\">\n",
            "\t\t\t\t\t\t\t<div class=\"mw-indicators\">\n",
            "\t\t</div>\n",
            "\n",
            "\t\t\t\t\t\t<div id=\"siteSub\" class=\"noprint\">From Wikipedia, the free encyclopedia</div>\n",
            "\t\t\t\t\t</div>\n",
            "\t\t\t\t\t<div id=\"contentSub\"><div id=\"mw-content-subtitle\"></div></div>\n",
            "\t\t\t\t\t\n",
            "\t\t\t\t\t\n",
            "\t\t\t\t\t<div id=\"mw-content-text\" class=\"mw-body-content mw-content-ltr\" lang=\"en\" dir=\"ltr\"><div class=\"noarticletext mw-content-ltr\" dir=\"ltr\" lang=\"en\">\n",
            "<div class=\"mw-parser-output\">\n",
            " <style data-mw-deduplicate=\"TemplateStyles:r1097275936\">.mw-parser-output .fmbox{clear:both;margin:0.2em 0;width:100%;border:1px solid #a2a9b1;background-color:#f8f9fa;box-sizing:border-box}.mw-parser-output .fmbox-warning{border:1px solid #bb7070;background-color:#ffdbdb}.mw-parser-output .fmbox-editnotice{background-color:transparent}.mw-parser-output .fmbox .mbox-text{border:none;padding:0.25em 0.9em;width:100%}.mw-parser-output .fmbox .mbox-image{border:none;padding:2px 0 2px 0.9em;text-align:center}.mw-parser-output .fmbox .mbox-imageright{border:none;padding:2px 0.9em 2px 0;text-align:center}.mw-parser-output .fmbox .mbox-invalid-type{text-align:center}</style><table id=\"noarticletext\" class=\"plainlinks fmbox fmbox-system\" role=\"presentation\"><tbody><tr><td class=\"mbox-text\" style=\"padding: 0.6em 0.9em;\"><style data-mw-deduplicate=\"TemplateStyles:r1080588920\">.mw-parser-output .no-article-text-sister-projects{border:1px solid #a2a9b1;background-color:#f8f9fa;line-height:1.5em;font-size:90%;padding:0.5em}.mw-parser-output .no-article-text-sister-projects li{display:flex;align-items:center}.mw-parser-output .no-article-text-sister-projects li>div:first-child{text-align:center;width:30px;height:30px;margin-right:0.3em;flex:0 0 30px}@media all and (min-width:40em){.mw-parser-output .no-article-text-sister-projects{margin:0.5em 0 0.5em 1em;clear:right;width:20em;float:right}.mw-parser-output .no-article-text-sister-projects .plainlist{margin-left:2em}.mw-parser-output .no-article-text-sister-projects li{height:2.5em}}</style><div class=\"no-article-text-sister-projects\" id=\"sisterproject\">Look for <b>Mae Hong Son/get</b> on one of Wikipedia's <a href=\"/wiki/Special:SiteMatrix\" title=\"Special:SiteMatrix\">sister projects</a>:\n",
            "<style data-mw-deduplicate=\"TemplateStyles:r1126788409\">.mw-parser-output .plainlist ol,.mw-parser-output .plainlist ul{line-height:inherit;list-style:none;margin:0;padding:0}.mw-parser-output .plainlist ol li,.mw-parser-output .plainlist ul li{margin-bottom:0}</style><div class=\"plainlist\">\n",
            "<ul>\n",
            "<li>\n",
            "  <div><img alt=\"\" src=\"//upload.wikimedia.org/wikipedia/en/thumb/0/06/Wiktionary-logo-v2.svg/30px-Wiktionary-logo-v2.svg.png\" decoding=\"async\" width=\"30\" height=\"30\" srcset=\"//upload.wikimedia.org/wikipedia/en/thumb/0/06/Wiktionary-logo-v2.svg/45px-Wiktionary-logo-v2.svg.png 1.5x, //upload.wikimedia.org/wikipedia/en/thumb/0/06/Wiktionary-logo-v2.svg/60px-Wiktionary-logo-v2.svg.png 2x\" data-file-width=\"391\" data-file-height=\"391\" /></div>\n",
            "  <div><a href=\"https://en.wiktionary.org/wiki/Special:Search/Mae_Hong_Son/get\" class=\"extiw\" title=\"wiktionary:Special:Search/Mae Hong Son/get\">Wiktionary</a> (dictionary)</div>\n",
            "</li>\n",
            "<li>\n",
            "  <div><img alt=\"\" src=\"//upload.wikimedia.org/wikipedia/commons/thumb/f/fa/Wikibooks-logo.svg/30px-Wikibooks-logo.svg.png\" decoding=\"async\" width=\"30\" height=\"30\" srcset=\"//upload.wikimedia.org/wikipedia/commons/thumb/f/fa/Wikibooks-logo.svg/45px-Wikibooks-logo.svg.png 1.5x, //upload.wikimedia.org/wikipedia/commons/thumb/f/fa/Wikibooks-logo.svg/60px-Wikibooks-logo.svg.png 2x\" data-file-width=\"300\" data-file-height=\"300\" /></div>\n",
            "  <div><a href=\"https://en.wikibooks.org/wiki/Special:Search/Mae_Hong_Son/get\" class=\"extiw\" title=\"wikibooks:Special:Search/Mae Hong Son/get\">Wikibooks</a> (textbooks)</div>\n",
            "</li>\n",
            "<li>\n",
            "  <div><img alt=\"\" src=\"//upload.wikimedia.org/wikipedia/commons/thumb/f/fa/Wikiquote-logo.svg/25px-Wikiquote-logo.svg.png\" decoding=\"async\" width=\"25\" height=\"30\" srcset=\"//upload.wikimedia.org/wikipedia/commons/thumb/f/fa/Wikiquote-logo.svg/38px-Wikiquote-logo.svg.png 1.5x, //upload.wikimedia.org/wikipedia/commons/thumb/f/fa/Wikiquote-logo.svg/51px-Wikiquote-logo.svg.png 2x\" data-file-width=\"300\" data-file-height=\"355\" /></div>\n",
            "  <div><a href=\"https://en.wikiquote.org/wiki/Special:Search/Mae_Hong_Son/get\" class=\"extiw\" title=\"wikiquote:Special:Search/Mae Hong Son/get\">Wikiquote</a> (quotations)</div>\n",
            "</li>\n",
            "<li>\n",
            "  <div><img alt=\"\" src=\"//upload.wikimedia.org/wikipedia/commons/thumb/4/4c/Wikisource-logo.svg/29px-Wikisource-logo.svg.png\" decoding=\"async\" width=\"29\" height=\"30\" srcset=\"//upload.wikimedia.org/wikipedia/commons/thumb/4/4c/Wikisource-logo.svg/43px-Wikisource-logo.svg.png 1.5x, //upload.wikimedia.org/wikipedia/commons/thumb/4/4c/Wikisource-logo.svg/57px-Wikisource-logo.svg.png 2x\" data-file-width=\"410\" data-file-height=\"430\" /></div>\n",
            "  <div><a href=\"https://en.wikisource.org/wiki/Special:Search/Mae_Hong_Son/get\" class=\"extiw\" title=\"wikisource:Special:Search/Mae Hong Son/get\">Wikisource</a> (library)</div>\n",
            "</li>\n",
            "<li>\n",
            "  <div><img alt=\"\" src=\"//upload.wikimedia.org/wikipedia/commons/thumb/0/0b/Wikiversity_logo_2017.svg/30px-Wikiversity_logo_2017.svg.png\" decoding=\"async\" width=\"30\" height=\"25\" srcset=\"//upload.wikimedia.org/wikipedia/commons/thumb/0/0b/Wikiversity_logo_2017.svg/45px-Wikiversity_logo_2017.svg.png 1.5x, //upload.wikimedia.org/wikipedia/commons/thumb/0/0b/Wikiversity_logo_2017.svg/60px-Wikiversity_logo_2017.svg.png 2x\" data-file-width=\"626\" data-file-height=\"512\" /></div>\n",
            "  <div><a href=\"https://en.wikiversity.org/wiki/Special:Search/Mae_Hong_Son/get\" class=\"extiw\" title=\"wikiversity:Special:Search/Mae Hong Son/get\">Wikiversity</a> (learning resources)</div>\n",
            "</li>\n",
            "<li>\n",
            "  <div><img alt=\"\" src=\"//upload.wikimedia.org/wikipedia/en/thumb/4/4a/Commons-logo.svg/22px-Commons-logo.svg.png\" decoding=\"async\" width=\"22\" height=\"30\" srcset=\"//upload.wikimedia.org/wikipedia/en/thumb/4/4a/Commons-logo.svg/33px-Commons-logo.svg.png 1.5x, //upload.wikimedia.org/wikipedia/en/thumb/4/4a/Commons-logo.svg/45px-Commons-logo.svg.png 2x\" data-file-width=\"1024\" data-file-height=\"1376\" /></div>\n",
            "  <div><a href=\"https://commons.wikimedia.org/wiki/Special:Search/Mae_Hong_Son/get\" class=\"extiw\" title=\"commons:Special:Search/Mae Hong Son/get\">Commons</a> (media)</div>\n",
            "</li>\n",
            "<li>\n",
            "  <div><img alt=\"\" src=\"//upload.wikimedia.org/wikipedia/commons/thumb/d/dd/Wikivoyage-Logo-v3-icon.svg/30px-Wikivoyage-Logo-v3-icon.svg.png\" decoding=\"async\" width=\"30\" height=\"30\" srcset=\"//upload.wikimedia.org/wikipedia/commons/thumb/d/dd/Wikivoyage-Logo-v3-icon.svg/45px-Wikivoyage-Logo-v3-icon.svg.png 1.5x, //upload.wikimedia.org/wikipedia/commons/thumb/d/dd/Wikivoyage-Logo-v3-icon.svg/60px-Wikivoyage-Logo-v3-icon.svg.png 2x\" data-file-width=\"193\" data-file-height=\"193\" /></div>\n",
            "  <div><a href=\"https://en.wikivoyage.org/wiki/Special:Search/Mae_Hong_Son/get\" class=\"extiw\" title=\"wikivoyage:Special:Search/Mae Hong Son/get\">Wikivoyage</a> (travel guide)</div>\n",
            "</li>\n",
            "<li>\n",
            "  <div><img alt=\"\" src=\"//upload.wikimedia.org/wikipedia/commons/thumb/2/24/Wikinews-logo.svg/30px-Wikinews-logo.svg.png\" decoding=\"async\" width=\"30\" height=\"16\" srcset=\"//upload.wikimedia.org/wikipedia/commons/thumb/2/24/Wikinews-logo.svg/45px-Wikinews-logo.svg.png 1.5x, //upload.wikimedia.org/wikipedia/commons/thumb/2/24/Wikinews-logo.svg/60px-Wikinews-logo.svg.png 2x\" data-file-width=\"759\" data-file-height=\"415\" /></div>\n",
            "  <div><a href=\"https://en.wikinews.org/wiki/Special:Search/Mae_Hong_Son/get\" class=\"extiw\" title=\"wikinews:Special:Search/Mae Hong Son/get\">Wikinews</a> (news source)</div>\n",
            "</li>\n",
            "<li>\n",
            "  <div><img alt=\"\" src=\"//upload.wikimedia.org/wikipedia/commons/thumb/f/ff/Wikidata-logo.svg/30px-Wikidata-logo.svg.png\" decoding=\"async\" width=\"30\" height=\"17\" srcset=\"//upload.wikimedia.org/wikipedia/commons/thumb/f/ff/Wikidata-logo.svg/45px-Wikidata-logo.svg.png 1.5x, //upload.wikimedia.org/wikipedia/commons/thumb/f/ff/Wikidata-logo.svg/60px-Wikidata-logo.svg.png 2x\" data-file-width=\"1050\" data-file-height=\"590\" /></div>\n",
            "  <div><a href=\"https://www.wikidata.org/wiki/Special:Search/Mae_Hong_Son/get\" class=\"extiw\" title=\"wikidata:Special:Search/Mae Hong Son/get\">Wikidata</a> (linked database)</div>\n",
            "</li>\n",
            "<li>\n",
            "  <div><img alt=\"\" src=\"//upload.wikimedia.org/wikipedia/commons/thumb/d/df/Wikispecies-logo.svg/26px-Wikispecies-logo.svg.png\" decoding=\"async\" width=\"26\" height=\"30\" srcset=\"//upload.wikimedia.org/wikipedia/commons/thumb/d/df/Wikispecies-logo.svg/38px-Wikispecies-logo.svg.png 1.5x, //upload.wikimedia.org/wikipedia/commons/thumb/d/df/Wikispecies-logo.svg/51px-Wikispecies-logo.svg.png 2x\" data-file-width=\"941\" data-file-height=\"1103\" /></div>\n",
            "  <div><a href=\"https://species.wikimedia.org/wiki/Special:Search/Mae_Hong_Son/get\" class=\"extiw\" title=\"wikispecies:Special:Search/Mae Hong Son/get\">Wikispecies</a> (species directory)</div>\n",
            "</li>\n",
            "</ul>\n",
            "</div>\n",
            "</div><b>Wikipedia does not have an article with this exact name.</b> Please <span class=\"plainlinks\"><a class=\"external text\" href=\"https://en.wikipedia.org/w/index.php?search=Mae+Hong+Son%2Fget&amp;title=Special%3ASearch&amp;fulltext=1\">search for <i>Mae Hong Son/get</i> in Wikipedia</a></span> to check for alternative titles or spellings.\n",
            "<ul><li>You need to <a class=\"external text\" href=\"https://en.wikipedia.org/w/index.php?title=Special:UserLogin&amp;returnto=Mae+Hong+Son%2Fget\">log in or create an account</a> to create this page.</li>\n",
            "<li><span class=\"plainlinks\"><a class=\"external text\" href=\"https://en.wikipedia.org/w/index.php?search=Mae+Hong+Son%2Fget&amp;title=Special%3ASearch&amp;fulltext=1&amp;ns0=1\">Search for \"<i>Mae Hong Son/get</i>\"</a></span> in existing articles.</li>\n",
            "<li><a href=\"/wiki/Special:WhatLinksHere/Mae_Hong_Son/get\" title=\"Special:WhatLinksHere/Mae Hong Son/get\">Look for pages within Wikipedia that link to this title</a>.</li></ul>\n",
            "<div id=\"noarticletext_technical\">\n",
            "<hr />\n",
            "<p><b>Other reasons this message may be displayed:</b>\n",
            "</p>\n",
            "<ul><li>If a page was recently created here, it may not be visible yet because of a delay in updating the database; wait a few minutes or <a href=\"/wiki/Special:Purge/Mae_Hong_Son/get\" title=\"Special:Purge/Mae Hong Son/get\">try the purge function</a>.</li>\n",
            "<li>Titles on Wikipedia are <b><a href=\"/wiki/Case_sensitivity\" title=\"Case sensitivity\">case sensitive</a></b> except for the first character; please <span class=\"plainlinks\"><a class=\"external text\" href=\"https://en.wikipedia.org/w/index.php?search=Mae+Hong+Son%2Fget&amp;title=Special%3ASearch&amp;fulltext=1\">check alternative capitalizations</a></span> and consider adding a <a href=\"/wiki/Wikipedia:Redirect\" title=\"Wikipedia:Redirect\">redirect</a> here to the correct title.</li>\n",
            "<li>If the page has been deleted, <a class=\"external text\" href=\"https://en.wikipedia.org/w/index.php?title=Special:Log/delete&amp;page=Mae_Hong_Son/get\">check the <b>deletion log</b></a>, and see <a href=\"/wiki/Wikipedia:Why_was_the_page_I_created_deleted%3F\" title=\"Wikipedia:Why was the page I created deleted?\">Why was the page I created deleted?</a>.</li></ul>\n",
            "</div></td></tr></tbody></table>\n",
            "</div>\n",
            "</div><!--esi <esi:include src=\"/esitest-fa8a495983347898/content\" /> --><noscript><img src=\"//en.wikipedia.org/wiki/Special:CentralAutoLogin/start?type=1x1\" alt=\"\" title=\"\" width=\"1\" height=\"1\" style=\"border: none; position: absolute;\" /></noscript>\n",
            "<div class=\"printfooter\" data-nosnippet=\"\">Retrieved from \"<a dir=\"ltr\" href=\"https://en.wikipedia.org/wiki/Mae_Hong_Son/get\">https://en.wikipedia.org/wiki/Mae_Hong_Son/get</a>\"</div></div>\n",
            "\t\t\t\t\t<div id=\"catlinks\" class=\"catlinks catlinks-allhidden\" data-mw=\"interface\"></div>\n",
            "\t\t\t\t\t\n",
            "\t\t\t\t</div>\n",
            "\t\t\t\t\n",
            "\t\t\t</main>\n",
            "\t\t\t\n",
            "\t\t</div>\n",
            "\t\t<div class=\"mw-footer-container\">\n",
            "\t\t\t\n",
            "<footer id=\"footer\" class=\"mw-footer\" role=\"contentinfo\" >\n",
            "\t<ul id=\"footer-info\">\n",
            "</ul>\n",
            "\n",
            "\t<ul id=\"footer-places\">\n",
            "\t<li id=\"footer-places-privacy\"><a href=\"https://foundation.wikimedia.org/wiki/Privacy_policy\">Privacy policy</a></li>\n",
            "\t<li id=\"footer-places-about\"><a href=\"/wiki/Wikipedia:About\">About Wikipedia</a></li>\n",
            "\t<li id=\"footer-places-disclaimers\"><a href=\"/wiki/Wikipedia:General_disclaimer\">Disclaimers</a></li>\n",
            "\t<li id=\"footer-places-contact\"><a href=\"//en.wikipedia.org/wiki/Wikipedia:Contact_us\">Contact Wikipedia</a></li>\n",
            "\t<li id=\"footer-places-mobileview\"><a href=\"//en.m.wikipedia.org/w/index.php?title=Mae_Hong_Son/get&amp;date=Thu%2C+16+Mar+2023+11%3A47%3A47+GMT&amp;x-content-type-options=nosniff&amp;mobileaction=toggle_view_mobile\" class=\"noprint stopMobileRedirectToggle\">Mobile view</a></li>\n",
            "\t<li id=\"footer-places-developers\"><a href=\"https://developer.wikimedia.org\">Developers</a></li>\n",
            "\t<li id=\"footer-places-statslink\"><a href=\"https://stats.wikimedia.org/#/en.wikipedia.org\">Statistics</a></li>\n",
            "\t<li id=\"footer-places-cookiestatement\"><a href=\"https://foundation.wikimedia.org/wiki/Cookie_statement\">Cookie statement</a></li>\n",
            "</ul>\n",
            "\n",
            "\t<ul id=\"footer-icons\" class=\"noprint\">\n",
            "\t<li id=\"footer-copyrightico\"><a href=\"https://wikimediafoundation.org/\"><img src=\"/static/images/footer/wikimedia-button.png\" srcset=\"/static/images/footer/wikimedia-button-1.5x.png 1.5x, /static/images/footer/wikimedia-button-2x.png 2x\" width=\"88\" height=\"31\" alt=\"Wikimedia Foundation\" loading=\"lazy\" /></a></li>\n",
            "\t<li id=\"footer-poweredbyico\"><a href=\"https://www.mediawiki.org/\"><img src=\"/static/images/footer/poweredby_mediawiki_88x31.png\" alt=\"Powered by MediaWiki\" srcset=\"/static/images/footer/poweredby_mediawiki_132x47.png 1.5x, /static/images/footer/poweredby_mediawiki_176x62.png 2x\" width=\"88\" height=\"31\" loading=\"lazy\"/></a></li>\n",
            "</ul>\n",
            "\n",
            "</footer>\n",
            "\n",
            "\t\t</div>\n",
            "\t</div> \n",
            "</div> \n",
            "\n",
            "<script>(RLQ=window.RLQ||[]).push(function(){mw.config.set({\"wgPageParseReport\":{\"limitreport\":{\"cputime\":\"0.135\",\"walltime\":\"0.166\",\"ppvisitednodes\":{\"value\":406,\"limit\":1000000},\"postexpandincludesize\":{\"value\":18340,\"limit\":2097152},\"templateargumentsize\":{\"value\":567,\"limit\":2097152},\"expansiondepth\":{\"value\":14,\"limit\":100},\"expensivefunctioncount\":{\"value\":6,\"limit\":500},\"unstrip-depth\":{\"value\":0,\"limit\":20},\"unstrip-size\":{\"value\":1800,\"limit\":5000000},\"entityaccesscount\":{\"value\":0,\"limit\":400},\"timingprofile\":[\"100.00%  141.479      1 -total\",\"100.00%  141.479      1 Template:No_article_text\",\" 80.16%  113.412      1 Template:Fmbox\",\" 16.32%   23.085      1 Template:New_page_DYM\",\" 14.40%   20.370      1 Template:No_article_text/sister_projects\",\"  3.38%    4.787      2 Template:Str_rightc\",\"  3.12%    4.418      3 Template:Plain_link\",\"  3.01%    4.263      1 Template:Plainlist\",\"  0.85%    1.203      1 Template:Endplainlist\"]},\"scribunto\":{\"limitreport-timeusage\":{\"value\":\"0.086\",\"limit\":\"10.000\"},\"limitreport-memusage\":{\"value\":1786539,\"limit\":52428800}},\"cachereport\":{\"origin\":\"mw2413\",\"timestamp\":\"20230316122648\",\"ttl\":1814400,\"transientcontent\":false}}});mw.config.set({\"wgBackendResponseTime\":229,\"wgHostname\":\"mw2413\"});});</script>\n",
            "</body>\n",
            "</html>\n"
          ]
        }
      ]
    },
    {
      "cell_type": "code",
      "source": [
        "r.headers['Content-Type']"
      ],
      "metadata": {
        "colab": {
          "base_uri": "https://localhost:8080/",
          "height": 36
        },
        "id": "OhRoo17dZOJV",
        "outputId": "108369d1-abe4-483a-f60e-b07df1fd43cd"
      },
      "execution_count": 71,
      "outputs": [
        {
          "output_type": "execute_result",
          "data": {
            "text/plain": [
              "'text/html; charset=UTF-8'"
            ],
            "application/vnd.google.colaboratory.intrinsic+json": {
              "type": "string"
            }
          },
          "metadata": {},
          "execution_count": 71
        }
      ]
    },
    {
      "cell_type": "markdown",
      "source": [
        "Post Request"
      ],
      "metadata": {
        "id": "MLUHRRMKZxTO"
      }
    },
    {
      "cell_type": "code",
      "source": [
        "url_post=\"https://en.wikipedia.org/wiki/Mae_Hong_Son\""
      ],
      "metadata": {
        "id": "NTDOZo9SZY34"
      },
      "execution_count": 75,
      "outputs": []
    },
    {
      "cell_type": "code",
      "source": [
        "r_post=requests.post(url_post,data=payload)"
      ],
      "metadata": {
        "id": "KJdhwXmxZ-gS"
      },
      "execution_count": 76,
      "outputs": []
    },
    {
      "cell_type": "code",
      "source": [
        "print(\"POST request URL:\",r_post.url )\n",
        "print(\"GET request URL:\",r.url)"
      ],
      "metadata": {
        "colab": {
          "base_uri": "https://localhost:8080/"
        },
        "id": "A5jrhxgsZ_-I",
        "outputId": "df87f716-84fa-4c99-f1a2-915f129548fb"
      },
      "execution_count": 77,
      "outputs": [
        {
          "output_type": "stream",
          "name": "stdout",
          "text": [
            "POST request URL: https://en.wikipedia.org/wiki/Mae_Hong_Son\n",
            "GET request URL: https://en.wikipedia.org/wiki/Mae_Hong_Son/get?date=Thu%2C+16+Mar+2023+11%3A47%3A47+GMT&x-content-type-options=nosniff\n"
          ]
        }
      ]
    },
    {
      "cell_type": "code",
      "source": [
        "print(\"POST request body:\",r_post.request.body)\n",
        "print(\"GET request body:\",r.request.body)"
      ],
      "metadata": {
        "colab": {
          "base_uri": "https://localhost:8080/"
        },
        "id": "q1oMwMY1aDdF",
        "outputId": "9b7a124e-acd2-4d9e-f1a2-522190e255af"
      },
      "execution_count": 78,
      "outputs": [
        {
          "output_type": "stream",
          "name": "stdout",
          "text": [
            "POST request body: date=Thu%2C+16+Mar+2023+11%3A47%3A47+GMT&x-content-type-options=nosniff\n",
            "GET request body: None\n"
          ]
        }
      ]
    },
    {
      "cell_type": "code",
      "source": [],
      "metadata": {
        "id": "eiDTNJrqaKaF"
      },
      "execution_count": null,
      "outputs": []
    }
  ]
}